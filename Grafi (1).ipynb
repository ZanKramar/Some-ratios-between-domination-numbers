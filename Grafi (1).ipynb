{
 "cells": [
  {
   "cell_type": "code",
   "execution_count": 0,
   "metadata": {
    "collapsed": false
   },
   "outputs": [
   ],
   "source": [
    "import random\n",
    "import json\n",
    "\n",
    "def sosed(h, k=1):\n",
    "    c =random.random()\n",
    "    print c\n",
    "    for i in range(k):\n",
    "        g = Graph(h)\n",
    "        while True:\n",
    "            if c <=0.25:\n",
    "                b = len(g.vertices())\n",
    "                a = randrange(0,b)\n",
    "                g.add_vertex(name = b)\n",
    "                g.add_edge(a,b)\n",
    "                h = g\n",
    "                break\n",
    "            elif c <= 0.5 and c > 0.25:\n",
    "                a = g.complement().random_edge()\n",
    "                g.add_edge(a)\n",
    "                h = g\n",
    "                break\n",
    "            elif c > 0.75:\n",
    "                a = g.random_edge()\n",
    "                g.delete_edge(a)\n",
    "                if g.is_connected():\n",
    "                    h = g\n",
    "                    break\n",
    "                else:\n",
    "                    g.add_edge(a)\n",
    "                    continue\n",
    "            else:\n",
    "                a = g.random_vertex()\n",
    "                g.delete_vertex(a)\n",
    "                if g.is_connected():\n",
    "                    h = g\n",
    "                    break\n",
    "                else:\n",
    "                    g.add_vertex(a)\n",
    "                    continue\n",
    "    return h\n",
    "\n",
    "def kriterij_a(g, i):\n",
    "    h = Graph(g)\n",
    "    return (h.cartesian_product(graphs.CompleteGraph(i))).dominating_set(value_only = True, total = True)/RR((h.cartesian_product(graphs.CompleteGraph(i))).dominating_set(value_only = True))\n",
    "\n",
    "def kriterij_b(g,i):\n",
    "    h = Graph(g)\n",
    "    return (h.cartesian_product(graphs.CompleteGraph(i))).dominating_set(value_only = True, total = True)/RR(h.dominating_set(value_only=True, total = True))\n",
    "\n",
    "def sim_ann_a(n, p, k, ponovitve, i=1):\n",
    "    g = graphs.RandomGNP(n,p)\n",
    "    for m in range(ponovitve):\n",
    "        t = ponovitve/(m+1)\n",
    "        sos = sosed(g, i)\n",
    "        razlika = RR(kriterij_a(g,k)) - RR(kriterij_a(sos,k))\n",
    "        if razlika > 0:\n",
    "            g = sos\n",
    "        elif exp((razlika * 100)/t) > random.random():\n",
    "            g = sos\n",
    "        print m\n",
    "    return g.sparse6_string(), float(kriterij_a(g,i))\n",
    "\n",
    "def sim_ann_b(n, p, k, ponovitve, i=1):\n",
    "    g = graphs.RandomGNP(n,p)\n",
    "    for i in range(ponovitve):\n",
    "        t = ponovitve/(i+1)\n",
    "        sos = sosed(g)\n",
    "        razlika = RR(kriterij_b(sos,k)) - RR(kriterij_b(g,k))\n",
    "        if razlika > 0:\n",
    "            g = sos\n",
    "        elif exp((razlika * 100)/t) > random.random():\n",
    "            g = sos\n",
    "        print i\n",
    "    return g.sparse6_string(), float(kriterij_b(g,i))\n",
    "\n",
    "\n",
    "def test_seznam(n, p, sez, ponovitve, i=1):\n",
    "    podatki = []\n",
    "    for k in sez:\n",
    "        graf_a, stevilo_a = sim_ann_a(n,p, k, ponovitve)\n",
    "        graf_b, stevilo_b = sim_ann_b(n,p, k, ponovitve)\n",
    "        podatki.append([graf_a, stevilo_a, graf_b, stevlio_b])\n",
    "    \treturn podatki\n",
    "\n",
    "\n",
    "def zapisi(podatki, i):\n",
    "    with open(\"rezultati{}.json\".format(i), \"w\") as f:\n",
    "        json.dump(podatki, f)"
   ]
  },
  {
   "cell_type": "code",
   "execution_count": 0,
   "metadata": {
    "collapsed": false
   },
   "outputs": [
   ],
   "source": [
    "for i in range(3,20):\n",
    "    sez = [i]\n",
    "    podatki = test_seznam(15, 0.5, sez, 1000, 2)\n",
    "    zapisi(podatki, i)\n",
    "    \n",
    "\n",
    "\n",
    "    \n",
    "    \n",
    "    "
   ]
  }
 ],
 "metadata": {
  "kernelspec": {
   "display_name": "SageMath (stable)",
   "language": "sagemath",
   "metadata": {
    "cocalc": {
     "description": "Open-source mathematical software system",
     "priority": 10,
     "url": "https://www.sagemath.org/"
    }
   },
   "name": "sagemath"
  },
  "language_info": {
   "codemirror_mode": {
    "name": "ipython",
    "version": 2
   },
   "file_extension": ".py",
   "mimetype": "text/x-python",
   "name": "python",
   "nbconvert_exporter": "python",
   "pygments_lexer": "ipython2",
   "version": "2.7.15"
  }
 },
 "nbformat": 4,
 "nbformat_minor": 0
}