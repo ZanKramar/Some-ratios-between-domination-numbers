{
 "cells": [
  {
   "cell_type": "markdown",
   "metadata": {
    "collapsed": false
   },
   "source": [
    "# Začetek projekta\n",
    "\n",
    "V tem delu iščemo funkcije v odvisnosti od k, k število oglišč, da so zadoščene neenakosti, zastavljene v problemu.\n"
   ]
  },
  {
   "cell_type": "code",
   "execution_count": 1,
   "metadata": {
    "collapsed": false
   },
   "outputs": [
   ],
   "source": [
    "def vrednosti(g,v):\n",
    "    sez_kr = []\n",
    "    sez_krt = []\n",
    "    if g.is_connected:\n",
    "        for i in range(3,v):\n",
    "            f = g.cartesian_product(graphs.CompleteGraph(i))\n",
    "            sez_kr.append(f.dominating_set(value_only=True))\n",
    "            sez_krt.append(f.dominating_set(value_only = True, total=True))\n",
    "    return[sez_kr, sez_krt]"
   ]
  },
  {
   "cell_type": "code",
   "execution_count": 2,
   "metadata": {
    "collapsed": false
   },
   "outputs": [
   ],
   "source": [
    "def deli_elemente(seznam, st):\n",
    "    return [x / st for x in seznam]"
   ]
  },
  {
   "cell_type": "code",
   "execution_count": 3,
   "metadata": {
    "collapsed": false
   },
   "outputs": [
   ],
   "source": [
    "def deli_seznam(seznam1, seznam2):\n",
    "    return [int(b) / int(m) for b,m in zip(seznam1, seznam2)]"
   ]
  },
  {
   "cell_type": "code",
   "execution_count": 4,
   "metadata": {
    "collapsed": false
   },
   "outputs": [
   ],
   "source": [
    "def primerjaj_sup(sez1, sez2):\n",
    "    for i in range(0,len(sez2)):\n",
    "        if sez1[i] < sez2[i]:\n",
    "            sez1[i] = sez2[i]\n",
    "    return sez1"
   ]
  },
  {
   "cell_type": "code",
   "execution_count": 5,
   "metadata": {
    "collapsed": false
   },
   "outputs": [
   ],
   "source": [
    "def primerjaj_inf(sez1, sez2):\n",
    "    for i in range(0,len(sez2)):\n",
    "        if sez1[i] > sez2[i]:\n",
    "            sez1[i] = sez2[i]\n",
    "    return sez1"
   ]
  },
  {
   "cell_type": "code",
   "execution_count": 6,
   "metadata": {
    "collapsed": false
   },
   "outputs": [
   ],
   "source": [
    "def zunanja (ponovitve, vozlisca):\n",
    "    st = 0\n",
    "    razmerje1 = [1110,1110,1110,1110,1110,1110,1111,1110,1110,1110,1110,1110,1110,1110,1110,1110,1110,1110,1110,1110,1110,1110,1110,1110,1110,1110,1110,1110]\n",
    "    razmerje2 = [0,0,0,0,0,0,0,0,0,0,0,0,0,0,0,0,0,0,0,0,0,0,0,0,0,0,0,0]\n",
    "    for i in range(0,ponovitve):\n",
    "        no=randrange(4,vozlisca)\n",
    "        g = graphs.RandomGNP(no, 0.5)\n",
    "        if g.is_connected():\n",
    "            [sez_kr, sez_krt] = vrednosti(g,len(razmerje1))\n",
    "            t = g.dominating_set(value_only=True, total = True)\n",
    "            b = deli_elemente(sez_krt, t)\n",
    "            a = deli_seznam(sez_krt, sez_kr)\n",
    "            razmerje1 = primerjaj_inf(razmerje1, b)\n",
    "            razmerje2 = primerjaj_sup(razmerje2, a)\n",
    "            st += 1\n",
    "            print ponovitve - st\n",
    "    return [a,b]"
   ]
  },
  {
   "cell_type": "code",
   "execution_count": 0,
   "metadata": {
    "collapsed": false
   },
   "outputs": [
   ],
   "source": [
    "[prbl_a,prbl_b] = zunanja(1000, 20)"
   ]
  },
  {
   "cell_type": "code",
   "execution_count": 0,
   "metadata": {
    "collapsed": false
   },
   "outputs": [
   ],
   "source": [
   ]
  },
  {
   "cell_type": "code",
   "execution_count": 0,
   "metadata": {
    "collapsed": false
   },
   "outputs": [
   ],
   "source": [
   ]
  },
  {
   "cell_type": "code",
   "execution_count": 0,
   "metadata": {
    "collapsed": false
   },
   "outputs": [
   ],
   "source": [
    "prbl_a"
   ]
  },
  {
   "cell_type": "code",
   "execution_count": 0,
   "metadata": {
    "collapsed": false
   },
   "outputs": [
   ],
   "source": [
    "prbl_b"
   ]
  },
  {
   "cell_type": "code",
   "execution_count": 0,
   "metadata": {
    "collapsed": false
   },
   "outputs": [
   ],
   "source": [
   ]
  },
  {
   "cell_type": "code",
   "execution_count": 0,
   "metadata": {
    "collapsed": false
   },
   "outputs": [
   ],
   "source": [
   ]
  },
  {
   "cell_type": "code",
   "execution_count": 0,
   "metadata": {
    "collapsed": false
   },
   "outputs": [
   ],
   "source": [
   ]
  },
  {
   "cell_type": "code",
   "execution_count": 0,
   "metadata": {
    "collapsed": false
   },
   "outputs": [
   ],
   "source": [
   ]
  },
  {
   "cell_type": "code",
   "execution_count": 0,
   "metadata": {
    "collapsed": false
   },
   "outputs": [
   ],
   "source": [
   ]
  },
  {
   "cell_type": "code",
   "execution_count": 0,
   "metadata": {
    "collapsed": false
   },
   "outputs": [
   ],
   "source": [
   ]
  },
  {
   "cell_type": "code",
   "execution_count": 0,
   "metadata": {
    "collapsed": false
   },
   "outputs": [
   ],
   "source": [
   ]
  },
  {
   "cell_type": "code",
   "execution_count": 0,
   "metadata": {
    "collapsed": false
   },
   "outputs": [
   ],
   "source": [
   ]
  },
  {
   "cell_type": "code",
   "execution_count": 0,
   "metadata": {
    "collapsed": false
   },
   "outputs": [
   ],
   "source": [
   ]
  },
  {
   "cell_type": "code",
   "execution_count": 0,
   "metadata": {
    "collapsed": false
   },
   "outputs": [
   ],
   "source": [
   ]
  },
  {
   "cell_type": "code",
   "execution_count": 0,
   "metadata": {
    "collapsed": false
   },
   "outputs": [
   ],
   "source": [
   ]
  }
 ],
 "metadata": {
  "kernelspec": {
   "display_name": "SageMath (stable)",
   "language": "sagemath",
   "metadata": {
    "cocalc": {
     "description": "Open-source mathematical software system",
     "priority": 10,
     "url": "https://www.sagemath.org/"
    }
   },
   "name": "sagemath"
  },
  "language_info": {
   "codemirror_mode": {
    "name": "ipython",
    "version": 2
   },
   "file_extension": ".py",
   "mimetype": "text/x-python",
   "name": "python",
   "nbconvert_exporter": "python",
   "pygments_lexer": "ipython2",
   "version": "2.7.15"
  }
 },
 "nbformat": 4,
 "nbformat_minor": 0
}